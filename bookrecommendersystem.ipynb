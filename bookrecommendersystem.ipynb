{
  "nbformat": 4,
  "nbformat_minor": 0,
  "metadata": {
    "colab": {
      "provenance": []
    },
    "kernelspec": {
      "name": "python3",
      "display_name": "Python 3"
    },
    "language_info": {
      "name": "python"
    }
  },
  "cells": [
    {
      "cell_type": "code",
      "source": [
        "import pandas as pd"
      ],
      "metadata": {
        "id": "dOJNrM7HlDcx"
      },
      "execution_count": null,
      "outputs": []
    },
    {
      "cell_type": "code",
      "source": [
        "users = pd.read_csv('Users.csv')\n",
        "books = pd.read_csv('Books.csv')\n",
        "ratings = pd.read_csv('Ratings.csv')"
      ],
      "metadata": {
        "id": "Yq32UV18Yf7q",
        "colab": {
          "base_uri": "https://localhost:8080/",
          "height": 388
        },
        "outputId": "efa49f19-88dc-4892-b43f-dfcfd109b892"
      },
      "execution_count": null,
      "outputs": [
        {
          "output_type": "error",
          "ename": "FileNotFoundError",
          "evalue": "[Errno 2] No such file or directory: 'Users.csv'",
          "traceback": [
            "\u001b[0;31m---------------------------------------------------------------------------\u001b[0m",
            "\u001b[0;31mFileNotFoundError\u001b[0m                         Traceback (most recent call last)",
            "\u001b[0;32m<ipython-input-2-68d7c1b17c86>\u001b[0m in \u001b[0;36m<cell line: 1>\u001b[0;34m()\u001b[0m\n\u001b[0;32m----> 1\u001b[0;31m \u001b[0musers\u001b[0m \u001b[0;34m=\u001b[0m \u001b[0mpd\u001b[0m\u001b[0;34m.\u001b[0m\u001b[0mread_csv\u001b[0m\u001b[0;34m(\u001b[0m\u001b[0;34m'Users.csv'\u001b[0m\u001b[0;34m)\u001b[0m\u001b[0;34m\u001b[0m\u001b[0;34m\u001b[0m\u001b[0m\n\u001b[0m\u001b[1;32m      2\u001b[0m \u001b[0mbooks\u001b[0m \u001b[0;34m=\u001b[0m \u001b[0mpd\u001b[0m\u001b[0;34m.\u001b[0m\u001b[0mread_csv\u001b[0m\u001b[0;34m(\u001b[0m\u001b[0;34m'Books.csv'\u001b[0m\u001b[0;34m)\u001b[0m\u001b[0;34m\u001b[0m\u001b[0;34m\u001b[0m\u001b[0m\n\u001b[1;32m      3\u001b[0m \u001b[0mratings\u001b[0m \u001b[0;34m=\u001b[0m \u001b[0mpd\u001b[0m\u001b[0;34m.\u001b[0m\u001b[0mread_csv\u001b[0m\u001b[0;34m(\u001b[0m\u001b[0;34m'Ratings.csv'\u001b[0m\u001b[0;34m)\u001b[0m\u001b[0;34m\u001b[0m\u001b[0;34m\u001b[0m\u001b[0m\n",
            "\u001b[0;32m/usr/local/lib/python3.10/dist-packages/pandas/util/_decorators.py\u001b[0m in \u001b[0;36mwrapper\u001b[0;34m(*args, **kwargs)\u001b[0m\n\u001b[1;32m    209\u001b[0m                 \u001b[0;32melse\u001b[0m\u001b[0;34m:\u001b[0m\u001b[0;34m\u001b[0m\u001b[0;34m\u001b[0m\u001b[0m\n\u001b[1;32m    210\u001b[0m                     \u001b[0mkwargs\u001b[0m\u001b[0;34m[\u001b[0m\u001b[0mnew_arg_name\u001b[0m\u001b[0;34m]\u001b[0m \u001b[0;34m=\u001b[0m \u001b[0mnew_arg_value\u001b[0m\u001b[0;34m\u001b[0m\u001b[0;34m\u001b[0m\u001b[0m\n\u001b[0;32m--> 211\u001b[0;31m             \u001b[0;32mreturn\u001b[0m \u001b[0mfunc\u001b[0m\u001b[0;34m(\u001b[0m\u001b[0;34m*\u001b[0m\u001b[0margs\u001b[0m\u001b[0;34m,\u001b[0m \u001b[0;34m**\u001b[0m\u001b[0mkwargs\u001b[0m\u001b[0;34m)\u001b[0m\u001b[0;34m\u001b[0m\u001b[0;34m\u001b[0m\u001b[0m\n\u001b[0m\u001b[1;32m    212\u001b[0m \u001b[0;34m\u001b[0m\u001b[0m\n\u001b[1;32m    213\u001b[0m         \u001b[0;32mreturn\u001b[0m \u001b[0mcast\u001b[0m\u001b[0;34m(\u001b[0m\u001b[0mF\u001b[0m\u001b[0;34m,\u001b[0m \u001b[0mwrapper\u001b[0m\u001b[0;34m)\u001b[0m\u001b[0;34m\u001b[0m\u001b[0;34m\u001b[0m\u001b[0m\n",
            "\u001b[0;32m/usr/local/lib/python3.10/dist-packages/pandas/util/_decorators.py\u001b[0m in \u001b[0;36mwrapper\u001b[0;34m(*args, **kwargs)\u001b[0m\n\u001b[1;32m    329\u001b[0m                     \u001b[0mstacklevel\u001b[0m\u001b[0;34m=\u001b[0m\u001b[0mfind_stack_level\u001b[0m\u001b[0;34m(\u001b[0m\u001b[0;34m)\u001b[0m\u001b[0;34m,\u001b[0m\u001b[0;34m\u001b[0m\u001b[0;34m\u001b[0m\u001b[0m\n\u001b[1;32m    330\u001b[0m                 )\n\u001b[0;32m--> 331\u001b[0;31m             \u001b[0;32mreturn\u001b[0m \u001b[0mfunc\u001b[0m\u001b[0;34m(\u001b[0m\u001b[0;34m*\u001b[0m\u001b[0margs\u001b[0m\u001b[0;34m,\u001b[0m \u001b[0;34m**\u001b[0m\u001b[0mkwargs\u001b[0m\u001b[0;34m)\u001b[0m\u001b[0;34m\u001b[0m\u001b[0;34m\u001b[0m\u001b[0m\n\u001b[0m\u001b[1;32m    332\u001b[0m \u001b[0;34m\u001b[0m\u001b[0m\n\u001b[1;32m    333\u001b[0m         \u001b[0;31m# error: \"Callable[[VarArg(Any), KwArg(Any)], Any]\" has no\u001b[0m\u001b[0;34m\u001b[0m\u001b[0;34m\u001b[0m\u001b[0m\n",
            "\u001b[0;32m/usr/local/lib/python3.10/dist-packages/pandas/io/parsers/readers.py\u001b[0m in \u001b[0;36mread_csv\u001b[0;34m(filepath_or_buffer, sep, delimiter, header, names, index_col, usecols, squeeze, prefix, mangle_dupe_cols, dtype, engine, converters, true_values, false_values, skipinitialspace, skiprows, skipfooter, nrows, na_values, keep_default_na, na_filter, verbose, skip_blank_lines, parse_dates, infer_datetime_format, keep_date_col, date_parser, dayfirst, cache_dates, iterator, chunksize, compression, thousands, decimal, lineterminator, quotechar, quoting, doublequote, escapechar, comment, encoding, encoding_errors, dialect, error_bad_lines, warn_bad_lines, on_bad_lines, delim_whitespace, low_memory, memory_map, float_precision, storage_options)\u001b[0m\n\u001b[1;32m    948\u001b[0m     \u001b[0mkwds\u001b[0m\u001b[0;34m.\u001b[0m\u001b[0mupdate\u001b[0m\u001b[0;34m(\u001b[0m\u001b[0mkwds_defaults\u001b[0m\u001b[0;34m)\u001b[0m\u001b[0;34m\u001b[0m\u001b[0;34m\u001b[0m\u001b[0m\n\u001b[1;32m    949\u001b[0m \u001b[0;34m\u001b[0m\u001b[0m\n\u001b[0;32m--> 950\u001b[0;31m     \u001b[0;32mreturn\u001b[0m \u001b[0m_read\u001b[0m\u001b[0;34m(\u001b[0m\u001b[0mfilepath_or_buffer\u001b[0m\u001b[0;34m,\u001b[0m \u001b[0mkwds\u001b[0m\u001b[0;34m)\u001b[0m\u001b[0;34m\u001b[0m\u001b[0;34m\u001b[0m\u001b[0m\n\u001b[0m\u001b[1;32m    951\u001b[0m \u001b[0;34m\u001b[0m\u001b[0m\n\u001b[1;32m    952\u001b[0m \u001b[0;34m\u001b[0m\u001b[0m\n",
            "\u001b[0;32m/usr/local/lib/python3.10/dist-packages/pandas/io/parsers/readers.py\u001b[0m in \u001b[0;36m_read\u001b[0;34m(filepath_or_buffer, kwds)\u001b[0m\n\u001b[1;32m    603\u001b[0m \u001b[0;34m\u001b[0m\u001b[0m\n\u001b[1;32m    604\u001b[0m     \u001b[0;31m# Create the parser.\u001b[0m\u001b[0;34m\u001b[0m\u001b[0;34m\u001b[0m\u001b[0m\n\u001b[0;32m--> 605\u001b[0;31m     \u001b[0mparser\u001b[0m \u001b[0;34m=\u001b[0m \u001b[0mTextFileReader\u001b[0m\u001b[0;34m(\u001b[0m\u001b[0mfilepath_or_buffer\u001b[0m\u001b[0;34m,\u001b[0m \u001b[0;34m**\u001b[0m\u001b[0mkwds\u001b[0m\u001b[0;34m)\u001b[0m\u001b[0;34m\u001b[0m\u001b[0;34m\u001b[0m\u001b[0m\n\u001b[0m\u001b[1;32m    606\u001b[0m \u001b[0;34m\u001b[0m\u001b[0m\n\u001b[1;32m    607\u001b[0m     \u001b[0;32mif\u001b[0m \u001b[0mchunksize\u001b[0m \u001b[0;32mor\u001b[0m \u001b[0miterator\u001b[0m\u001b[0;34m:\u001b[0m\u001b[0;34m\u001b[0m\u001b[0;34m\u001b[0m\u001b[0m\n",
            "\u001b[0;32m/usr/local/lib/python3.10/dist-packages/pandas/io/parsers/readers.py\u001b[0m in \u001b[0;36m__init__\u001b[0;34m(self, f, engine, **kwds)\u001b[0m\n\u001b[1;32m   1440\u001b[0m \u001b[0;34m\u001b[0m\u001b[0m\n\u001b[1;32m   1441\u001b[0m         \u001b[0mself\u001b[0m\u001b[0;34m.\u001b[0m\u001b[0mhandles\u001b[0m\u001b[0;34m:\u001b[0m \u001b[0mIOHandles\u001b[0m \u001b[0;34m|\u001b[0m \u001b[0;32mNone\u001b[0m \u001b[0;34m=\u001b[0m \u001b[0;32mNone\u001b[0m\u001b[0;34m\u001b[0m\u001b[0;34m\u001b[0m\u001b[0m\n\u001b[0;32m-> 1442\u001b[0;31m         \u001b[0mself\u001b[0m\u001b[0;34m.\u001b[0m\u001b[0m_engine\u001b[0m \u001b[0;34m=\u001b[0m \u001b[0mself\u001b[0m\u001b[0;34m.\u001b[0m\u001b[0m_make_engine\u001b[0m\u001b[0;34m(\u001b[0m\u001b[0mf\u001b[0m\u001b[0;34m,\u001b[0m \u001b[0mself\u001b[0m\u001b[0;34m.\u001b[0m\u001b[0mengine\u001b[0m\u001b[0;34m)\u001b[0m\u001b[0;34m\u001b[0m\u001b[0;34m\u001b[0m\u001b[0m\n\u001b[0m\u001b[1;32m   1443\u001b[0m \u001b[0;34m\u001b[0m\u001b[0m\n\u001b[1;32m   1444\u001b[0m     \u001b[0;32mdef\u001b[0m \u001b[0mclose\u001b[0m\u001b[0;34m(\u001b[0m\u001b[0mself\u001b[0m\u001b[0;34m)\u001b[0m \u001b[0;34m->\u001b[0m \u001b[0;32mNone\u001b[0m\u001b[0;34m:\u001b[0m\u001b[0;34m\u001b[0m\u001b[0;34m\u001b[0m\u001b[0m\n",
            "\u001b[0;32m/usr/local/lib/python3.10/dist-packages/pandas/io/parsers/readers.py\u001b[0m in \u001b[0;36m_make_engine\u001b[0;34m(self, f, engine)\u001b[0m\n\u001b[1;32m   1733\u001b[0m                 \u001b[0;32mif\u001b[0m \u001b[0;34m\"b\"\u001b[0m \u001b[0;32mnot\u001b[0m \u001b[0;32min\u001b[0m \u001b[0mmode\u001b[0m\u001b[0;34m:\u001b[0m\u001b[0;34m\u001b[0m\u001b[0;34m\u001b[0m\u001b[0m\n\u001b[1;32m   1734\u001b[0m                     \u001b[0mmode\u001b[0m \u001b[0;34m+=\u001b[0m \u001b[0;34m\"b\"\u001b[0m\u001b[0;34m\u001b[0m\u001b[0;34m\u001b[0m\u001b[0m\n\u001b[0;32m-> 1735\u001b[0;31m             self.handles = get_handle(\n\u001b[0m\u001b[1;32m   1736\u001b[0m                 \u001b[0mf\u001b[0m\u001b[0;34m,\u001b[0m\u001b[0;34m\u001b[0m\u001b[0;34m\u001b[0m\u001b[0m\n\u001b[1;32m   1737\u001b[0m                 \u001b[0mmode\u001b[0m\u001b[0;34m,\u001b[0m\u001b[0;34m\u001b[0m\u001b[0;34m\u001b[0m\u001b[0m\n",
            "\u001b[0;32m/usr/local/lib/python3.10/dist-packages/pandas/io/common.py\u001b[0m in \u001b[0;36mget_handle\u001b[0;34m(path_or_buf, mode, encoding, compression, memory_map, is_text, errors, storage_options)\u001b[0m\n\u001b[1;32m    854\u001b[0m         \u001b[0;32mif\u001b[0m \u001b[0mioargs\u001b[0m\u001b[0;34m.\u001b[0m\u001b[0mencoding\u001b[0m \u001b[0;32mand\u001b[0m \u001b[0;34m\"b\"\u001b[0m \u001b[0;32mnot\u001b[0m \u001b[0;32min\u001b[0m \u001b[0mioargs\u001b[0m\u001b[0;34m.\u001b[0m\u001b[0mmode\u001b[0m\u001b[0;34m:\u001b[0m\u001b[0;34m\u001b[0m\u001b[0;34m\u001b[0m\u001b[0m\n\u001b[1;32m    855\u001b[0m             \u001b[0;31m# Encoding\u001b[0m\u001b[0;34m\u001b[0m\u001b[0;34m\u001b[0m\u001b[0m\n\u001b[0;32m--> 856\u001b[0;31m             handle = open(\n\u001b[0m\u001b[1;32m    857\u001b[0m                 \u001b[0mhandle\u001b[0m\u001b[0;34m,\u001b[0m\u001b[0;34m\u001b[0m\u001b[0;34m\u001b[0m\u001b[0m\n\u001b[1;32m    858\u001b[0m                 \u001b[0mioargs\u001b[0m\u001b[0;34m.\u001b[0m\u001b[0mmode\u001b[0m\u001b[0;34m,\u001b[0m\u001b[0;34m\u001b[0m\u001b[0;34m\u001b[0m\u001b[0m\n",
            "\u001b[0;31mFileNotFoundError\u001b[0m: [Errno 2] No such file or directory: 'Users.csv'"
          ]
        }
      ]
    },
    {
      "cell_type": "code",
      "source": [
        "users.head(10)"
      ],
      "metadata": {
        "id": "JPKgvNZDY5S5"
      },
      "execution_count": null,
      "outputs": []
    },
    {
      "cell_type": "code",
      "source": [
        "books.shape"
      ],
      "metadata": {
        "id": "cS-8_1Z9ZE-N"
      },
      "execution_count": null,
      "outputs": []
    },
    {
      "cell_type": "code",
      "source": [
        "ratings.head(10)"
      ],
      "metadata": {
        "id": "1wb_JyzRaPc1"
      },
      "execution_count": null,
      "outputs": []
    },
    {
      "cell_type": "code",
      "source": [
        "users.info()\n",
        "print(users.shape)"
      ],
      "metadata": {
        "id": "-0_SDgnZafqW"
      },
      "execution_count": null,
      "outputs": []
    },
    {
      "cell_type": "code",
      "source": [
        "users.describe()"
      ],
      "metadata": {
        "id": "OxpnOaybboop"
      },
      "execution_count": null,
      "outputs": []
    },
    {
      "cell_type": "code",
      "source": [
        "books.info()\n",
        "print(books.shape)"
      ],
      "metadata": {
        "id": "ulD9rqfRbvyt"
      },
      "execution_count": null,
      "outputs": []
    },
    {
      "cell_type": "code",
      "source": [
        "books.describe()"
      ],
      "metadata": {
        "id": "3T3vRsc4cfLb"
      },
      "execution_count": null,
      "outputs": []
    },
    {
      "cell_type": "code",
      "source": [
        "ratings.info()\n",
        "print(ratings.shape)"
      ],
      "metadata": {
        "id": "oP4hImY0c0GV"
      },
      "execution_count": null,
      "outputs": []
    },
    {
      "cell_type": "code",
      "source": [
        "a = users['Age'].isna().sum()\n",
        "b = len(users['Age'])\n",
        "print(a/b)"
      ],
      "metadata": {
        "id": "PKB3lsufc-TT"
      },
      "execution_count": null,
      "outputs": []
    },
    {
      "cell_type": "markdown",
      "source": [
        "almost 40% age data is missing"
      ],
      "metadata": {
        "id": "Y0QTXoyWguC-"
      }
    },
    {
      "cell_type": "code",
      "source": [
        "books.isna().sum()"
      ],
      "metadata": {
        "id": "A89S5YjAdxqw"
      },
      "execution_count": null,
      "outputs": []
    },
    {
      "cell_type": "code",
      "source": [
        "users.isna().sum()"
      ],
      "metadata": {
        "id": "ER3XtZHxhQa5"
      },
      "execution_count": null,
      "outputs": []
    },
    {
      "cell_type": "code",
      "source": [
        "ratings.isna().sum()"
      ],
      "metadata": {
        "id": "bh61ZBpVhVTD"
      },
      "execution_count": null,
      "outputs": []
    },
    {
      "cell_type": "code",
      "source": [
        "print(users.duplicated().sum())\n",
        "print(books.duplicated().sum())\n",
        "print(ratings.duplicated().sum())"
      ],
      "metadata": {
        "id": "ZIibgBkkhYg8"
      },
      "execution_count": null,
      "outputs": []
    },
    {
      "cell_type": "markdown",
      "source": [
        "no duplicate values"
      ],
      "metadata": {
        "id": "YjXFOgAghzKh"
      }
    },
    {
      "cell_type": "code",
      "source": [
        "ratings_new = ratings.merge(books,on = 'ISBN')\n",
        "ratings_new"
      ],
      "metadata": {
        "id": "z8MErRWJhryD"
      },
      "execution_count": null,
      "outputs": []
    },
    {
      "cell_type": "code",
      "source": [
        "ratings_df = ratings_new.groupby('Book-Title').count()['Book-Rating'].reset_index()\n",
        "ratings_df.rename(columns = {'Book-Rating':'num_ratings'},inplace = True)\n",
        "ratings_df\n",
        "\n",
        "\n",
        "\n",
        "\n"
      ],
      "metadata": {
        "id": "lz6SID4xsrA-"
      },
      "execution_count": null,
      "outputs": []
    },
    {
      "cell_type": "code",
      "source": [
        "avg_ratings_df = ratings_new.groupby('Book-Title').mean()['Book-Rating'].reset_index()\n",
        "avg_ratings_df.rename(columns = {'Book-Rating':'avg_ratings'},inplace = True)\n",
        "avg_ratings_df"
      ],
      "metadata": {
        "id": "CmyYL5l8d10t"
      },
      "execution_count": null,
      "outputs": []
    },
    {
      "cell_type": "code",
      "source": [
        "popularity_df = ratings_df.merge(avg_ratings_df,on = 'Book-Title')\n",
        "popularity_df"
      ],
      "metadata": {
        "id": "XlSWI7Z4gqvJ"
      },
      "execution_count": null,
      "outputs": []
    },
    {
      "cell_type": "code",
      "source": [
        "popularity_df = popularity_df[popularity_df['num_ratings']>100].sort_values('avg_ratings',ascending = False).head(50)\n",
        "popularity_df"
      ],
      "metadata": {
        "id": "gQ70_mNxhKG7"
      },
      "execution_count": null,
      "outputs": []
    },
    {
      "cell_type": "code",
      "source": [
        "popularity_df = popularity_df.merge(books,on = 'Book-Title').drop_duplicates('Book-Title')[['Book-Title','Book-Author','Year-Of-Publication','Publisher','num_ratings','avg_ratings','Image-URL-M']]"
      ],
      "metadata": {
        "id": "-0FKYy77iDFT"
      },
      "execution_count": null,
      "outputs": []
    },
    {
      "cell_type": "code",
      "source": [
        "popularity_df"
      ],
      "metadata": {
        "id": "sK6rwAhGjqQi"
      },
      "execution_count": null,
      "outputs": []
    },
    {
      "cell_type": "markdown",
      "source": [
        "# New Section\n",
        "**collaborative filtering**"
      ],
      "metadata": {
        "id": "DWEfQmh5-Dtd"
      }
    },
    {
      "cell_type": "code",
      "source": [
        "x = ratings_new.groupby('User-ID').count()['Book-Rating']>200\n",
        "rated_users = x[x].index\n",
        "rated_users"
      ],
      "metadata": {
        "id": "s1hNjV5zm7L6"
      },
      "execution_count": null,
      "outputs": []
    },
    {
      "cell_type": "code",
      "source": [
        "filter_ratings = ratings_new[ratings_new['User-ID'].isin(rated_users)]\n",
        "filter_ratings"
      ],
      "metadata": {
        "id": "ZAZMVFv1Hg1b"
      },
      "execution_count": null,
      "outputs": []
    },
    {
      "cell_type": "markdown",
      "source": [
        "now we will filter the filter_rating df on books with rating higher than 50"
      ],
      "metadata": {
        "id": "wjSMlOnuJaYW"
      }
    },
    {
      "cell_type": "code",
      "source": [
        "y = filter_ratings.groupby('Book-Title').count()['Book-Rating']>=40\n",
        "famous_books = y[y].index"
      ],
      "metadata": {
        "id": "cXpBeaN3IqiZ"
      },
      "execution_count": null,
      "outputs": []
    },
    {
      "cell_type": "code",
      "source": [
        "famous_books"
      ],
      "metadata": {
        "id": "jAGSKyENKcY9"
      },
      "execution_count": null,
      "outputs": []
    },
    {
      "cell_type": "code",
      "source": [
        "final_ratings = filter_ratings[filter_ratings['Book-Title'].isin(famous_books)]"
      ],
      "metadata": {
        "id": "kR4pYEBDKjxE"
      },
      "execution_count": null,
      "outputs": []
    },
    {
      "cell_type": "code",
      "source": [
        "final_ratings"
      ],
      "metadata": {
        "id": "AGCWd2VyLN2a"
      },
      "execution_count": null,
      "outputs": []
    },
    {
      "cell_type": "code",
      "source": [
        "pt = final_ratings.pivot_table(index = 'Book-Title',columns = 'User-ID',values = 'Book-Rating')"
      ],
      "metadata": {
        "id": "F-Gp9yZ5phXM"
      },
      "execution_count": null,
      "outputs": []
    },
    {
      "cell_type": "code",
      "source": [
        "pt.fillna(0,inplace = True)"
      ],
      "metadata": {
        "id": "biszZtvRPQYz"
      },
      "execution_count": null,
      "outputs": []
    },
    {
      "cell_type": "code",
      "source": [
        "pt"
      ],
      "metadata": {
        "id": "0Wp2g1AXPd80"
      },
      "execution_count": null,
      "outputs": []
    },
    {
      "cell_type": "code",
      "source": [
        "import tensorflow as tf"
      ],
      "metadata": {
        "id": "NF4NpU0NPg2a"
      },
      "execution_count": null,
      "outputs": []
    },
    {
      "cell_type": "code",
      "source": [
        "tf.compat.v1.enable_eager_execution()"
      ],
      "metadata": {
        "id": "7_S_RKHAh-LL"
      },
      "execution_count": null,
      "outputs": []
    },
    {
      "cell_type": "code",
      "source": [
        "\n",
        "\n",
        "\n",
        "\n",
        "\n",
        "# Convert the pivot table to a TensorFlow tensor\n",
        "#pivot_tensor = tf.convert_to_tensor(pt.values, dtype=tf.float32)\n",
        "\n",
        "# Calculate cosine similarity using TensorFlow\n",
        "#similarity = tf.keras.losses.cosine_similarity(pivot_tensor, pivot_tensor, axis=1)\n",
        "\n",
        "\n",
        "\n",
        "# You can run a TensorFlow session to get the similarity matrix\n",
        "with tf.compat.v1.Session() as sess:\n",
        "    pivot_tensor = tf.convert_to_tensor(pt.values, dtype=tf.float32)\n",
        "    similarity = tf.keras.losses.cosine_similarity(pivot_tensor,pivot_tensor)\n",
        "\n",
        "    cosine_similarity_matrix = sess.run(similarity)\n",
        "\n",
        "# The cosine_similarity_matrix contains the cosine similarities between rows (users or items) in your pivot table."
      ],
      "metadata": {
        "id": "xcQV42SjRV8U"
      },
      "execution_count": null,
      "outputs": []
    },
    {
      "cell_type": "code",
      "source": [
        "cosine_similarity_matrix.shape\n"
      ],
      "metadata": {
        "id": "mM2BlnYe7Pr1"
      },
      "execution_count": null,
      "outputs": []
    },
    {
      "cell_type": "code",
      "source": [
        "pivot_tensor = tf.convert_to_tensor(pt.values, dtype=tf.float32)\n",
        "norm = tf.norm(pivot_tensor,axis = 1,keepdims = True)\n",
        "normalized_matrix = pivot_tensor/norm\n",
        "cosine_sim_matrix = tf.matmul(normalized_matrix,normalized_matrix,transpose_b = True)\n"
      ],
      "metadata": {
        "id": "Cem8-Vafpkup"
      },
      "execution_count": null,
      "outputs": []
    },
    {
      "cell_type": "code",
      "source": [
        "cosine_sim_matrix"
      ],
      "metadata": {
        "id": "lsc-v_-sqWEY"
      },
      "execution_count": null,
      "outputs": []
    },
    {
      "cell_type": "markdown",
      "source": [
        "recommend on book name\n"
      ],
      "metadata": {
        "id": "7IZQiNzYpvsh"
      }
    },
    {
      "cell_type": "code",
      "source": [
        "final_books = books.merge(ratings,on = 'ISBN').drop_duplicates('Book-Title')\n",
        "final_books"
      ],
      "metadata": {
        "id": "BIo20sZahiAw"
      },
      "execution_count": null,
      "outputs": []
    },
    {
      "cell_type": "code",
      "source": [
        "def recommend(book_name):\n",
        "  index = np.where(pt.index == book_name)[0][0]\n",
        "  similar_items = sorted(list(enumerate(cosine_sim_matrix[index])),key = lambda x:x[1],reverse = True)[0:50]\n",
        "  data = []\n",
        "\n",
        "  for i in similar_items:\n",
        "    item = []\n",
        "    temp_df = final_books[final_books['Book-Title']==pt.index[i[0]]]\n",
        "    item.extend(list(temp_df.drop_duplicates('Book-Title')['Book-Title'].values))\n",
        "    item.extend(list(temp_df.drop_duplicates('Book-Title')['Book-Author'].values))\n",
        "    item.extend(list(temp_df.drop_duplicates('Book-Title')['Image-URL-M'].values))\n",
        "    #item.extend(list(temp_df.drop_duplicates('Book-Title')['Year-Of-Publication'].values))\n",
        "    item.extend(list(temp_df.drop_duplicates('Book-Title')['Book-Rating'].values))\n",
        "\n",
        "\n",
        "    data.append(item)\n",
        "\n",
        "    #print(pt.index[i[0]])\n",
        "  return(data)"
      ],
      "metadata": {
        "id": "mttkSzIgqZbR"
      },
      "execution_count": null,
      "outputs": []
    },
    {
      "cell_type": "code",
      "source": [
        "import numpy as np"
      ],
      "metadata": {
        "id": "-L3fgFsqeJXe"
      },
      "execution_count": null,
      "outputs": []
    },
    {
      "cell_type": "code",
      "source": [
        "np.where(pt.index=='Wuthering Heights')[0][0]"
      ],
      "metadata": {
        "id": "WNWo860KvlDm"
      },
      "execution_count": null,
      "outputs": []
    },
    {
      "cell_type": "code",
      "source": [
        "recommend('Wuthering Heights')"
      ],
      "metadata": {
        "id": "nWPjQoK7z2xH"
      },
      "execution_count": null,
      "outputs": []
    },
    {
      "cell_type": "code",
      "source": [
        "recommend('Message in a Bottle')"
      ],
      "metadata": {
        "id": "KAw-cJzo6Ceq"
      },
      "execution_count": null,
      "outputs": []
    },
    {
      "cell_type": "markdown",
      "source": [
        "author based recommender system\n"
      ],
      "metadata": {
        "id": "KGHBfrIBqPFL"
      }
    },
    {
      "cell_type": "code",
      "source": [
        "pt1 = final_ratings.pivot_table(index = 'Book-Author',columns = 'User-ID',values = 'Book-Rating')"
      ],
      "metadata": {
        "id": "LOmz-w5Ak2t1"
      },
      "execution_count": null,
      "outputs": []
    },
    {
      "cell_type": "code",
      "source": [
        "pt1"
      ],
      "metadata": {
        "id": "db1fWG84qcJH"
      },
      "execution_count": null,
      "outputs": []
    },
    {
      "cell_type": "code",
      "source": [
        "pt1.fillna(0,inplace = True)"
      ],
      "metadata": {
        "id": "-YxazF5cqdZI"
      },
      "execution_count": null,
      "outputs": []
    },
    {
      "cell_type": "code",
      "source": [
        "pt1"
      ],
      "metadata": {
        "id": "ZYeFhkA1rQg1"
      },
      "execution_count": null,
      "outputs": []
    },
    {
      "cell_type": "code",
      "source": [
        "pivot_tensor_author = tf.convert_to_tensor(pt1.values, dtype=tf.float32)\n",
        "norm = tf.norm(pivot_tensor_author,axis = 1,keepdims = True)\n",
        "normalized_matrix = pivot_tensor_author/norm\n",
        "cosine_sim_matrix_author = tf.matmul(normalized_matrix,normalized_matrix,transpose_b = True)\n"
      ],
      "metadata": {
        "id": "hykbkHF1q0KW"
      },
      "execution_count": null,
      "outputs": []
    },
    {
      "cell_type": "code",
      "source": [
        "cosine_sim_matrix_author.numpy()"
      ],
      "metadata": {
        "id": "FUkYgifsq_Pp"
      },
      "execution_count": null,
      "outputs": []
    },
    {
      "cell_type": "code",
      "source": [
        "filled_author_cos = np.nan_to_num(cosine_sim_matrix_author, nan=-1)"
      ],
      "metadata": {
        "id": "j6v4i-72rFMd"
      },
      "execution_count": null,
      "outputs": []
    },
    {
      "cell_type": "code",
      "source": [
        "filled_author_cos"
      ],
      "metadata": {
        "id": "EjpMQj7OrtY6"
      },
      "execution_count": null,
      "outputs": []
    },
    {
      "cell_type": "code",
      "source": [
        "books"
      ],
      "metadata": {
        "id": "z5MKdtWTjvhH"
      },
      "execution_count": null,
      "outputs": []
    },
    {
      "cell_type": "code",
      "source": [
        "def recommend_author(author_name):\n",
        "  index = np.where(pt1.index == author_name)[0][0]\n",
        "  similar_items = sorted(list(enumerate(filled_author_cos[index])),key = lambda x:x[1],reverse = True)[0:50]\n",
        "  author_name = []\n",
        "  for i in similar_items:\n",
        "\n",
        "    author_name.append(pt1.index[i[0]])\n",
        "    #print(np.where(final_ratings['Book-Author']==pt1.index[i[0]]))\n",
        "\n",
        "    #print(pt1.index[i[0]])\n",
        "  #print(author_name)\n",
        "  index1 = []\n",
        "  for x in author_name:\n",
        "    value_to_find = x\n",
        "    index = books.index[books['Book-Author'].values == value_to_find].tolist()[0]\n",
        "    index1.append(index)\n",
        "  data = []\n",
        "  for i in index1:\n",
        "    #books = final_ratings.loc[i,'Book-Title']\n",
        "    #print(books)\n",
        "    item = []\n",
        "    temp_df = books[books['Book-Title']==books.loc[i,'Book-Title']]\n",
        "    item.extend(list(temp_df.drop_duplicates('Book-Title')['Book-Title'].values))\n",
        "    item.extend(list(temp_df.drop_duplicates('Book-Title')['Book-Author'].values))\n",
        "    item.extend(list(temp_df.drop_duplicates('Book-Title')['Image-URL-M'].values))\n",
        "\n",
        "    data.append(item)\n",
        "  return data\n",
        "  #print(index1)\n",
        "\n",
        "    #for author_name in final_ratings['Book-Author']:\n",
        "     #print(final_ratings['Book-Title'])\n"
      ],
      "metadata": {
        "id": "Bcn0HMb8tG9W"
      },
      "execution_count": null,
      "outputs": []
    },
    {
      "cell_type": "code",
      "source": [
        "final_books"
      ],
      "metadata": {
        "id": "EwspkB0jioLo"
      },
      "execution_count": null,
      "outputs": []
    },
    {
      "cell_type": "code",
      "source": [
        "np.where(pt1.index == 'ANN PACKER')"
      ],
      "metadata": {
        "id": "vixhTYEbkEj7"
      },
      "execution_count": null,
      "outputs": []
    },
    {
      "cell_type": "markdown",
      "source": [],
      "metadata": {
        "id": "zNGU-aeskLAd"
      }
    },
    {
      "cell_type": "code",
      "source": [
        "pt1"
      ],
      "metadata": {
        "id": "hen093iulhC3"
      },
      "execution_count": null,
      "outputs": []
    },
    {
      "cell_type": "code",
      "source": [
        "recommend_author('Yann Queffelec')"
      ],
      "metadata": {
        "id": "K-jYtV34u09O"
      },
      "execution_count": null,
      "outputs": []
    },
    {
      "cell_type": "code",
      "source": [
        "popularity_df['Image-URL-M'][0]"
      ],
      "metadata": {
        "id": "7fbVv9Xdo6Vu"
      },
      "execution_count": null,
      "outputs": []
    },
    {
      "cell_type": "code",
      "source": [
        "#import pickle"
      ],
      "metadata": {
        "id": "14fbMkvPZpD1"
      },
      "execution_count": null,
      "outputs": []
    },
    {
      "cell_type": "code",
      "source": [
        "#pickle.dump(pt,open('pt.pkl','wb'))\n",
        "#pickle.dump(books,open('books.pkl','wb'))\n",
        "#pickle.dump(cosine_sim_matrix,open('cosine_sim_matrix.pkl','wb'))\n"
      ],
      "metadata": {
        "id": "uEwh5cXTmDhM"
      },
      "execution_count": null,
      "outputs": []
    },
    {
      "cell_type": "code",
      "source": [],
      "metadata": {
        "id": "FFYvipxomfWj"
      },
      "execution_count": null,
      "outputs": []
    }
  ]
}